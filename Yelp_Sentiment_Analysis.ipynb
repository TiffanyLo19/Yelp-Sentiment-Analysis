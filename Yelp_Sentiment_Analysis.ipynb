{
  "nbformat": 4,
  "nbformat_minor": 0,
  "metadata": {
    "colab": {
      "provenance": [],
      "name": "Yelp Sentiment Analysis.ipynb"
    },
    "kernelspec": {
      "name": "python3",
      "display_name": "Python 3"
    },
    "language_info": {
      "name": "python"
    }
  },
  "cells": [
    {
      "cell_type": "markdown",
      "source": [
        "##### Sentiment Analysis for Yelp using LSTM and Naive Bayes\n",
        "\n",
        "https://archive.ics.uci.edu/ml/datasets/Sentiment+Labelled+Sentences#\n",
        "\n"
      ],
      "metadata": {
        "id": "Xm6JTk7VVkVd"
      }
    },
    {
      "cell_type": "markdown",
      "source": [
        "### Pre-Processing"
      ],
      "metadata": {
        "id": "8oZH9AOoQz7G"
      }
    },
    {
      "cell_type": "code",
      "execution_count": null,
      "metadata": {
        "id": "lOqIWqwUvuQa"
      },
      "outputs": [],
      "source": [
        "# Import necessary libraries\n",
        "import pandas as pd\n",
        "import numpy as np\n",
        "import sklearn\n",
        "import tensorflow as tf\n",
        "import keras\n",
        "import gensim\n",
        "from nltk.tokenize.treebank import TreebankWordDetokenizer\n",
        "from keras.models import Sequential\n",
        "from keras import layers\n",
        "from keras.optimizers import RMSprop,Adam\n",
        "from keras.preprocessing.text import Tokenizer\n",
        "from keras_preprocessing.sequence import pad_sequences\n",
        "from keras import regularizers\n",
        "from keras import backend as K\n",
        "from keras.callbacks import ModelCheckpoint\n",
        "from sklearn.feature_extraction.text import CountVectorizer"
      ]
    },
    {
      "cell_type": "code",
      "source": [
        "# Import dataset into pandas dataframe\n",
        "reviews = pd.read_csv(\"https://raw.githubusercontent.com/TiffanyLo19/Yelp-Sentiment-Analysis/main/yelp_labelled.txt\", sep ='delimiter', header = None, names = [\"Review\"])\n",
        "reviews['Sentiment'] = reviews['Review'].str.strip().str[-1]\n",
        "reviews['Review'] = reviews['Review'].str[:-2]\n",
        "reviews"
      ],
      "metadata": {
        "colab": {
          "base_uri": "https://localhost:8080/",
          "height": 478
        },
        "id": "nTMUVNY9yYxq",
        "outputId": "480ad2d9-274f-472b-a8af-9c2a56b05c4f"
      },
      "execution_count": null,
      "outputs": [
        {
          "output_type": "stream",
          "name": "stderr",
          "text": [
            "/usr/local/lib/python3.7/dist-packages/pandas/util/_decorators.py:311: ParserWarning: Falling back to the 'python' engine because the 'c' engine does not support regex separators (separators > 1 char and different from '\\s+' are interpreted as regex); you can avoid this warning by specifying engine='python'.\n",
            "  return func(*args, **kwargs)\n"
          ]
        },
        {
          "output_type": "execute_result",
          "data": {
            "text/plain": [
              "                                                Review Sentiment\n",
              "0                             Wow... Loved this place.         1\n",
              "1                                   Crust is not good.         0\n",
              "2            Not tasty and the texture was just nasty.         0\n",
              "3    Stopped by during the late May bank holiday of...         1\n",
              "4    The selection on the menu was great and so wer...         1\n",
              "..                                                 ...       ...\n",
              "995  I think food should have flavor and texture an...         0\n",
              "996                           Appetite instantly gone.         0\n",
              "997  Overall I was not impressed and would not go b...         0\n",
              "998  The whole experience was underwhelming, and I ...         0\n",
              "999  Then, as if I hadn't wasted enough of my life ...         0\n",
              "\n",
              "[1000 rows x 2 columns]"
            ],
            "text/html": [
              "\n",
              "  <div id=\"df-0b564193-3666-43c3-9263-65dd9fcfb70e\">\n",
              "    <div class=\"colab-df-container\">\n",
              "      <div>\n",
              "<style scoped>\n",
              "    .dataframe tbody tr th:only-of-type {\n",
              "        vertical-align: middle;\n",
              "    }\n",
              "\n",
              "    .dataframe tbody tr th {\n",
              "        vertical-align: top;\n",
              "    }\n",
              "\n",
              "    .dataframe thead th {\n",
              "        text-align: right;\n",
              "    }\n",
              "</style>\n",
              "<table border=\"1\" class=\"dataframe\">\n",
              "  <thead>\n",
              "    <tr style=\"text-align: right;\">\n",
              "      <th></th>\n",
              "      <th>Review</th>\n",
              "      <th>Sentiment</th>\n",
              "    </tr>\n",
              "  </thead>\n",
              "  <tbody>\n",
              "    <tr>\n",
              "      <th>0</th>\n",
              "      <td>Wow... Loved this place.</td>\n",
              "      <td>1</td>\n",
              "    </tr>\n",
              "    <tr>\n",
              "      <th>1</th>\n",
              "      <td>Crust is not good.</td>\n",
              "      <td>0</td>\n",
              "    </tr>\n",
              "    <tr>\n",
              "      <th>2</th>\n",
              "      <td>Not tasty and the texture was just nasty.</td>\n",
              "      <td>0</td>\n",
              "    </tr>\n",
              "    <tr>\n",
              "      <th>3</th>\n",
              "      <td>Stopped by during the late May bank holiday of...</td>\n",
              "      <td>1</td>\n",
              "    </tr>\n",
              "    <tr>\n",
              "      <th>4</th>\n",
              "      <td>The selection on the menu was great and so wer...</td>\n",
              "      <td>1</td>\n",
              "    </tr>\n",
              "    <tr>\n",
              "      <th>...</th>\n",
              "      <td>...</td>\n",
              "      <td>...</td>\n",
              "    </tr>\n",
              "    <tr>\n",
              "      <th>995</th>\n",
              "      <td>I think food should have flavor and texture an...</td>\n",
              "      <td>0</td>\n",
              "    </tr>\n",
              "    <tr>\n",
              "      <th>996</th>\n",
              "      <td>Appetite instantly gone.</td>\n",
              "      <td>0</td>\n",
              "    </tr>\n",
              "    <tr>\n",
              "      <th>997</th>\n",
              "      <td>Overall I was not impressed and would not go b...</td>\n",
              "      <td>0</td>\n",
              "    </tr>\n",
              "    <tr>\n",
              "      <th>998</th>\n",
              "      <td>The whole experience was underwhelming, and I ...</td>\n",
              "      <td>0</td>\n",
              "    </tr>\n",
              "    <tr>\n",
              "      <th>999</th>\n",
              "      <td>Then, as if I hadn't wasted enough of my life ...</td>\n",
              "      <td>0</td>\n",
              "    </tr>\n",
              "  </tbody>\n",
              "</table>\n",
              "<p>1000 rows × 2 columns</p>\n",
              "</div>\n",
              "      <button class=\"colab-df-convert\" onclick=\"convertToInteractive('df-0b564193-3666-43c3-9263-65dd9fcfb70e')\"\n",
              "              title=\"Convert this dataframe to an interactive table.\"\n",
              "              style=\"display:none;\">\n",
              "        \n",
              "  <svg xmlns=\"http://www.w3.org/2000/svg\" height=\"24px\"viewBox=\"0 0 24 24\"\n",
              "       width=\"24px\">\n",
              "    <path d=\"M0 0h24v24H0V0z\" fill=\"none\"/>\n",
              "    <path d=\"M18.56 5.44l.94 2.06.94-2.06 2.06-.94-2.06-.94-.94-2.06-.94 2.06-2.06.94zm-11 1L8.5 8.5l.94-2.06 2.06-.94-2.06-.94L8.5 2.5l-.94 2.06-2.06.94zm10 10l.94 2.06.94-2.06 2.06-.94-2.06-.94-.94-2.06-.94 2.06-2.06.94z\"/><path d=\"M17.41 7.96l-1.37-1.37c-.4-.4-.92-.59-1.43-.59-.52 0-1.04.2-1.43.59L10.3 9.45l-7.72 7.72c-.78.78-.78 2.05 0 2.83L4 21.41c.39.39.9.59 1.41.59.51 0 1.02-.2 1.41-.59l7.78-7.78 2.81-2.81c.8-.78.8-2.07 0-2.86zM5.41 20L4 18.59l7.72-7.72 1.47 1.35L5.41 20z\"/>\n",
              "  </svg>\n",
              "      </button>\n",
              "      \n",
              "  <style>\n",
              "    .colab-df-container {\n",
              "      display:flex;\n",
              "      flex-wrap:wrap;\n",
              "      gap: 12px;\n",
              "    }\n",
              "\n",
              "    .colab-df-convert {\n",
              "      background-color: #E8F0FE;\n",
              "      border: none;\n",
              "      border-radius: 50%;\n",
              "      cursor: pointer;\n",
              "      display: none;\n",
              "      fill: #1967D2;\n",
              "      height: 32px;\n",
              "      padding: 0 0 0 0;\n",
              "      width: 32px;\n",
              "    }\n",
              "\n",
              "    .colab-df-convert:hover {\n",
              "      background-color: #E2EBFA;\n",
              "      box-shadow: 0px 1px 2px rgba(60, 64, 67, 0.3), 0px 1px 3px 1px rgba(60, 64, 67, 0.15);\n",
              "      fill: #174EA6;\n",
              "    }\n",
              "\n",
              "    [theme=dark] .colab-df-convert {\n",
              "      background-color: #3B4455;\n",
              "      fill: #D2E3FC;\n",
              "    }\n",
              "\n",
              "    [theme=dark] .colab-df-convert:hover {\n",
              "      background-color: #434B5C;\n",
              "      box-shadow: 0px 1px 3px 1px rgba(0, 0, 0, 0.15);\n",
              "      filter: drop-shadow(0px 1px 2px rgba(0, 0, 0, 0.3));\n",
              "      fill: #FFFFFF;\n",
              "    }\n",
              "  </style>\n",
              "\n",
              "      <script>\n",
              "        const buttonEl =\n",
              "          document.querySelector('#df-0b564193-3666-43c3-9263-65dd9fcfb70e button.colab-df-convert');\n",
              "        buttonEl.style.display =\n",
              "          google.colab.kernel.accessAllowed ? 'block' : 'none';\n",
              "\n",
              "        async function convertToInteractive(key) {\n",
              "          const element = document.querySelector('#df-0b564193-3666-43c3-9263-65dd9fcfb70e');\n",
              "          const dataTable =\n",
              "            await google.colab.kernel.invokeFunction('convertToInteractive',\n",
              "                                                     [key], {});\n",
              "          if (!dataTable) return;\n",
              "\n",
              "          const docLinkHtml = 'Like what you see? Visit the ' +\n",
              "            '<a target=\"_blank\" href=https://colab.research.google.com/notebooks/data_table.ipynb>data table notebook</a>'\n",
              "            + ' to learn more about interactive tables.';\n",
              "          element.innerHTML = '';\n",
              "          dataTable['output_type'] = 'display_data';\n",
              "          await google.colab.output.renderOutput(dataTable, element);\n",
              "          const docLink = document.createElement('div');\n",
              "          docLink.innerHTML = docLinkHtml;\n",
              "          element.appendChild(docLink);\n",
              "        }\n",
              "      </script>\n",
              "    </div>\n",
              "  </div>\n",
              "  "
            ]
          },
          "metadata": {},
          "execution_count": 66
        }
      ]
    },
    {
      "cell_type": "code",
      "source": [
        "# Assign labels to sentiment\n",
        "reviews['Sentiment'] = reviews.Sentiment.map({'1': 'positive', '0': 'negative'})\n",
        "reviews"
      ],
      "metadata": {
        "colab": {
          "base_uri": "https://localhost:8080/",
          "height": 424
        },
        "id": "8rQxbpNK6oIJ",
        "outputId": "23f4a31b-38ef-4563-d9c3-f911abb95f98"
      },
      "execution_count": null,
      "outputs": [
        {
          "output_type": "execute_result",
          "data": {
            "text/plain": [
              "                                                Review Sentiment\n",
              "0                             Wow... Loved this place.  positive\n",
              "1                                   Crust is not good.  negative\n",
              "2            Not tasty and the texture was just nasty.  negative\n",
              "3    Stopped by during the late May bank holiday of...  positive\n",
              "4    The selection on the menu was great and so wer...  positive\n",
              "..                                                 ...       ...\n",
              "995  I think food should have flavor and texture an...  negative\n",
              "996                           Appetite instantly gone.  negative\n",
              "997  Overall I was not impressed and would not go b...  negative\n",
              "998  The whole experience was underwhelming, and I ...  negative\n",
              "999  Then, as if I hadn't wasted enough of my life ...  negative\n",
              "\n",
              "[1000 rows x 2 columns]"
            ],
            "text/html": [
              "\n",
              "  <div id=\"df-60844a7d-1fd8-4a2a-80eb-e754eabcf92f\">\n",
              "    <div class=\"colab-df-container\">\n",
              "      <div>\n",
              "<style scoped>\n",
              "    .dataframe tbody tr th:only-of-type {\n",
              "        vertical-align: middle;\n",
              "    }\n",
              "\n",
              "    .dataframe tbody tr th {\n",
              "        vertical-align: top;\n",
              "    }\n",
              "\n",
              "    .dataframe thead th {\n",
              "        text-align: right;\n",
              "    }\n",
              "</style>\n",
              "<table border=\"1\" class=\"dataframe\">\n",
              "  <thead>\n",
              "    <tr style=\"text-align: right;\">\n",
              "      <th></th>\n",
              "      <th>Review</th>\n",
              "      <th>Sentiment</th>\n",
              "    </tr>\n",
              "  </thead>\n",
              "  <tbody>\n",
              "    <tr>\n",
              "      <th>0</th>\n",
              "      <td>Wow... Loved this place.</td>\n",
              "      <td>positive</td>\n",
              "    </tr>\n",
              "    <tr>\n",
              "      <th>1</th>\n",
              "      <td>Crust is not good.</td>\n",
              "      <td>negative</td>\n",
              "    </tr>\n",
              "    <tr>\n",
              "      <th>2</th>\n",
              "      <td>Not tasty and the texture was just nasty.</td>\n",
              "      <td>negative</td>\n",
              "    </tr>\n",
              "    <tr>\n",
              "      <th>3</th>\n",
              "      <td>Stopped by during the late May bank holiday of...</td>\n",
              "      <td>positive</td>\n",
              "    </tr>\n",
              "    <tr>\n",
              "      <th>4</th>\n",
              "      <td>The selection on the menu was great and so wer...</td>\n",
              "      <td>positive</td>\n",
              "    </tr>\n",
              "    <tr>\n",
              "      <th>...</th>\n",
              "      <td>...</td>\n",
              "      <td>...</td>\n",
              "    </tr>\n",
              "    <tr>\n",
              "      <th>995</th>\n",
              "      <td>I think food should have flavor and texture an...</td>\n",
              "      <td>negative</td>\n",
              "    </tr>\n",
              "    <tr>\n",
              "      <th>996</th>\n",
              "      <td>Appetite instantly gone.</td>\n",
              "      <td>negative</td>\n",
              "    </tr>\n",
              "    <tr>\n",
              "      <th>997</th>\n",
              "      <td>Overall I was not impressed and would not go b...</td>\n",
              "      <td>negative</td>\n",
              "    </tr>\n",
              "    <tr>\n",
              "      <th>998</th>\n",
              "      <td>The whole experience was underwhelming, and I ...</td>\n",
              "      <td>negative</td>\n",
              "    </tr>\n",
              "    <tr>\n",
              "      <th>999</th>\n",
              "      <td>Then, as if I hadn't wasted enough of my life ...</td>\n",
              "      <td>negative</td>\n",
              "    </tr>\n",
              "  </tbody>\n",
              "</table>\n",
              "<p>1000 rows × 2 columns</p>\n",
              "</div>\n",
              "      <button class=\"colab-df-convert\" onclick=\"convertToInteractive('df-60844a7d-1fd8-4a2a-80eb-e754eabcf92f')\"\n",
              "              title=\"Convert this dataframe to an interactive table.\"\n",
              "              style=\"display:none;\">\n",
              "        \n",
              "  <svg xmlns=\"http://www.w3.org/2000/svg\" height=\"24px\"viewBox=\"0 0 24 24\"\n",
              "       width=\"24px\">\n",
              "    <path d=\"M0 0h24v24H0V0z\" fill=\"none\"/>\n",
              "    <path d=\"M18.56 5.44l.94 2.06.94-2.06 2.06-.94-2.06-.94-.94-2.06-.94 2.06-2.06.94zm-11 1L8.5 8.5l.94-2.06 2.06-.94-2.06-.94L8.5 2.5l-.94 2.06-2.06.94zm10 10l.94 2.06.94-2.06 2.06-.94-2.06-.94-.94-2.06-.94 2.06-2.06.94z\"/><path d=\"M17.41 7.96l-1.37-1.37c-.4-.4-.92-.59-1.43-.59-.52 0-1.04.2-1.43.59L10.3 9.45l-7.72 7.72c-.78.78-.78 2.05 0 2.83L4 21.41c.39.39.9.59 1.41.59.51 0 1.02-.2 1.41-.59l7.78-7.78 2.81-2.81c.8-.78.8-2.07 0-2.86zM5.41 20L4 18.59l7.72-7.72 1.47 1.35L5.41 20z\"/>\n",
              "  </svg>\n",
              "      </button>\n",
              "      \n",
              "  <style>\n",
              "    .colab-df-container {\n",
              "      display:flex;\n",
              "      flex-wrap:wrap;\n",
              "      gap: 12px;\n",
              "    }\n",
              "\n",
              "    .colab-df-convert {\n",
              "      background-color: #E8F0FE;\n",
              "      border: none;\n",
              "      border-radius: 50%;\n",
              "      cursor: pointer;\n",
              "      display: none;\n",
              "      fill: #1967D2;\n",
              "      height: 32px;\n",
              "      padding: 0 0 0 0;\n",
              "      width: 32px;\n",
              "    }\n",
              "\n",
              "    .colab-df-convert:hover {\n",
              "      background-color: #E2EBFA;\n",
              "      box-shadow: 0px 1px 2px rgba(60, 64, 67, 0.3), 0px 1px 3px 1px rgba(60, 64, 67, 0.15);\n",
              "      fill: #174EA6;\n",
              "    }\n",
              "\n",
              "    [theme=dark] .colab-df-convert {\n",
              "      background-color: #3B4455;\n",
              "      fill: #D2E3FC;\n",
              "    }\n",
              "\n",
              "    [theme=dark] .colab-df-convert:hover {\n",
              "      background-color: #434B5C;\n",
              "      box-shadow: 0px 1px 3px 1px rgba(0, 0, 0, 0.15);\n",
              "      filter: drop-shadow(0px 1px 2px rgba(0, 0, 0, 0.3));\n",
              "      fill: #FFFFFF;\n",
              "    }\n",
              "  </style>\n",
              "\n",
              "      <script>\n",
              "        const buttonEl =\n",
              "          document.querySelector('#df-60844a7d-1fd8-4a2a-80eb-e754eabcf92f button.colab-df-convert');\n",
              "        buttonEl.style.display =\n",
              "          google.colab.kernel.accessAllowed ? 'block' : 'none';\n",
              "\n",
              "        async function convertToInteractive(key) {\n",
              "          const element = document.querySelector('#df-60844a7d-1fd8-4a2a-80eb-e754eabcf92f');\n",
              "          const dataTable =\n",
              "            await google.colab.kernel.invokeFunction('convertToInteractive',\n",
              "                                                     [key], {});\n",
              "          if (!dataTable) return;\n",
              "\n",
              "          const docLinkHtml = 'Like what you see? Visit the ' +\n",
              "            '<a target=\"_blank\" href=https://colab.research.google.com/notebooks/data_table.ipynb>data table notebook</a>'\n",
              "            + ' to learn more about interactive tables.';\n",
              "          element.innerHTML = '';\n",
              "          dataTable['output_type'] = 'display_data';\n",
              "          await google.colab.output.renderOutput(dataTable, element);\n",
              "          const docLink = document.createElement('div');\n",
              "          docLink.innerHTML = docLinkHtml;\n",
              "          element.appendChild(docLink);\n",
              "        }\n",
              "      </script>\n",
              "    </div>\n",
              "  </div>\n",
              "  "
            ]
          },
          "metadata": {},
          "execution_count": 67
        }
      ]
    },
    {
      "cell_type": "code",
      "source": [
        "# Count of each sentiment\n",
        "reviews.groupby('Sentiment').nunique()"
      ],
      "metadata": {
        "colab": {
          "base_uri": "https://localhost:8080/",
          "height": 143
        },
        "id": "MSzCxkQ37Lmi",
        "outputId": "c1cc5da8-14d3-4d28-c35a-92f541a35cde"
      },
      "execution_count": null,
      "outputs": [
        {
          "output_type": "execute_result",
          "data": {
            "text/plain": [
              "           Review\n",
              "Sentiment        \n",
              "negative      497\n",
              "positive      499"
            ],
            "text/html": [
              "\n",
              "  <div id=\"df-856ba6d7-372c-4a94-b414-15b9c43d9e4e\">\n",
              "    <div class=\"colab-df-container\">\n",
              "      <div>\n",
              "<style scoped>\n",
              "    .dataframe tbody tr th:only-of-type {\n",
              "        vertical-align: middle;\n",
              "    }\n",
              "\n",
              "    .dataframe tbody tr th {\n",
              "        vertical-align: top;\n",
              "    }\n",
              "\n",
              "    .dataframe thead th {\n",
              "        text-align: right;\n",
              "    }\n",
              "</style>\n",
              "<table border=\"1\" class=\"dataframe\">\n",
              "  <thead>\n",
              "    <tr style=\"text-align: right;\">\n",
              "      <th></th>\n",
              "      <th>Review</th>\n",
              "    </tr>\n",
              "    <tr>\n",
              "      <th>Sentiment</th>\n",
              "      <th></th>\n",
              "    </tr>\n",
              "  </thead>\n",
              "  <tbody>\n",
              "    <tr>\n",
              "      <th>negative</th>\n",
              "      <td>497</td>\n",
              "    </tr>\n",
              "    <tr>\n",
              "      <th>positive</th>\n",
              "      <td>499</td>\n",
              "    </tr>\n",
              "  </tbody>\n",
              "</table>\n",
              "</div>\n",
              "      <button class=\"colab-df-convert\" onclick=\"convertToInteractive('df-856ba6d7-372c-4a94-b414-15b9c43d9e4e')\"\n",
              "              title=\"Convert this dataframe to an interactive table.\"\n",
              "              style=\"display:none;\">\n",
              "        \n",
              "  <svg xmlns=\"http://www.w3.org/2000/svg\" height=\"24px\"viewBox=\"0 0 24 24\"\n",
              "       width=\"24px\">\n",
              "    <path d=\"M0 0h24v24H0V0z\" fill=\"none\"/>\n",
              "    <path d=\"M18.56 5.44l.94 2.06.94-2.06 2.06-.94-2.06-.94-.94-2.06-.94 2.06-2.06.94zm-11 1L8.5 8.5l.94-2.06 2.06-.94-2.06-.94L8.5 2.5l-.94 2.06-2.06.94zm10 10l.94 2.06.94-2.06 2.06-.94-2.06-.94-.94-2.06-.94 2.06-2.06.94z\"/><path d=\"M17.41 7.96l-1.37-1.37c-.4-.4-.92-.59-1.43-.59-.52 0-1.04.2-1.43.59L10.3 9.45l-7.72 7.72c-.78.78-.78 2.05 0 2.83L4 21.41c.39.39.9.59 1.41.59.51 0 1.02-.2 1.41-.59l7.78-7.78 2.81-2.81c.8-.78.8-2.07 0-2.86zM5.41 20L4 18.59l7.72-7.72 1.47 1.35L5.41 20z\"/>\n",
              "  </svg>\n",
              "      </button>\n",
              "      \n",
              "  <style>\n",
              "    .colab-df-container {\n",
              "      display:flex;\n",
              "      flex-wrap:wrap;\n",
              "      gap: 12px;\n",
              "    }\n",
              "\n",
              "    .colab-df-convert {\n",
              "      background-color: #E8F0FE;\n",
              "      border: none;\n",
              "      border-radius: 50%;\n",
              "      cursor: pointer;\n",
              "      display: none;\n",
              "      fill: #1967D2;\n",
              "      height: 32px;\n",
              "      padding: 0 0 0 0;\n",
              "      width: 32px;\n",
              "    }\n",
              "\n",
              "    .colab-df-convert:hover {\n",
              "      background-color: #E2EBFA;\n",
              "      box-shadow: 0px 1px 2px rgba(60, 64, 67, 0.3), 0px 1px 3px 1px rgba(60, 64, 67, 0.15);\n",
              "      fill: #174EA6;\n",
              "    }\n",
              "\n",
              "    [theme=dark] .colab-df-convert {\n",
              "      background-color: #3B4455;\n",
              "      fill: #D2E3FC;\n",
              "    }\n",
              "\n",
              "    [theme=dark] .colab-df-convert:hover {\n",
              "      background-color: #434B5C;\n",
              "      box-shadow: 0px 1px 3px 1px rgba(0, 0, 0, 0.15);\n",
              "      filter: drop-shadow(0px 1px 2px rgba(0, 0, 0, 0.3));\n",
              "      fill: #FFFFFF;\n",
              "    }\n",
              "  </style>\n",
              "\n",
              "      <script>\n",
              "        const buttonEl =\n",
              "          document.querySelector('#df-856ba6d7-372c-4a94-b414-15b9c43d9e4e button.colab-df-convert');\n",
              "        buttonEl.style.display =\n",
              "          google.colab.kernel.accessAllowed ? 'block' : 'none';\n",
              "\n",
              "        async function convertToInteractive(key) {\n",
              "          const element = document.querySelector('#df-856ba6d7-372c-4a94-b414-15b9c43d9e4e');\n",
              "          const dataTable =\n",
              "            await google.colab.kernel.invokeFunction('convertToInteractive',\n",
              "                                                     [key], {});\n",
              "          if (!dataTable) return;\n",
              "\n",
              "          const docLinkHtml = 'Like what you see? Visit the ' +\n",
              "            '<a target=\"_blank\" href=https://colab.research.google.com/notebooks/data_table.ipynb>data table notebook</a>'\n",
              "            + ' to learn more about interactive tables.';\n",
              "          element.innerHTML = '';\n",
              "          dataTable['output_type'] = 'display_data';\n",
              "          await google.colab.output.renderOutput(dataTable, element);\n",
              "          const docLink = document.createElement('div');\n",
              "          docLink.innerHTML = docLinkHtml;\n",
              "          element.appendChild(docLink);\n",
              "        }\n",
              "      </script>\n",
              "    </div>\n",
              "  </div>\n",
              "  "
            ]
          },
          "metadata": {},
          "execution_count": 68
        }
      ]
    },
    {
      "cell_type": "code",
      "source": [
        "# Check for null values\n",
        "reviews = reviews[['Review','Sentiment']]\n",
        "reviews[\"Review\"].isnull().sum()"
      ],
      "metadata": {
        "colab": {
          "base_uri": "https://localhost:8080/"
        },
        "id": "GrVaXhWe7eJY",
        "outputId": "743c33e7-b68c-4570-da9f-e2bcba3b3d44"
      },
      "execution_count": null,
      "outputs": [
        {
          "output_type": "execute_result",
          "data": {
            "text/plain": [
              "0"
            ]
          },
          "metadata": {},
          "execution_count": 69
        }
      ]
    },
    {
      "cell_type": "code",
      "source": [
        "reviews.dtypes"
      ],
      "metadata": {
        "colab": {
          "base_uri": "https://localhost:8080/"
        },
        "id": "0E9Xmbun8OYU",
        "outputId": "5643e202-ac3c-4097-bab0-86d4f01d90f2"
      },
      "execution_count": null,
      "outputs": [
        {
          "output_type": "execute_result",
          "data": {
            "text/plain": [
              "Review       object\n",
              "Sentiment    object\n",
              "dtype: object"
            ]
          },
          "metadata": {},
          "execution_count": 70
        }
      ]
    },
    {
      "cell_type": "code",
      "source": [
        "# Create training and testing datasets\n",
        "from sklearn.model_selection import train_test_split\n",
        "X = reviews[['Review']]\n",
        "Y = reviews[['Sentiment']]\n",
        "X_train, X_test, Y_train, Y_test = train_test_split(X, Y, test_size = 0.2, random_state=5)\n",
        "X_train2, X_test2, Y_train2, Y_test2 = train_test_split(X, Y, test_size = 0.2, random_state=5)\n",
        "print(X_train.shape)\n",
        "print(X_test.shape)\n",
        "print(Y_train.shape)\n",
        "print(Y_test.shape)"
      ],
      "metadata": {
        "colab": {
          "base_uri": "https://localhost:8080/"
        },
        "id": "rp0DzGCq1EiV",
        "outputId": "183a7881-bee7-4cda-d556-19f3ac995788"
      },
      "execution_count": null,
      "outputs": [
        {
          "output_type": "stream",
          "name": "stdout",
          "text": [
            "(800, 1)\n",
            "(200, 1)\n",
            "(800, 1)\n",
            "(200, 1)\n"
          ]
        }
      ]
    },
    {
      "cell_type": "code",
      "source": [
        "# Vectorize text reviews to numbers\n",
        "vec = CountVectorizer(stop_words = 'english')\n",
        "for i in X_train:\n",
        "  X_train[i] = vec.fit_transform(X_train[i]).toarray()\n",
        "for i in X_test:\n",
        "  X_test[i] = vec.fit_transform(X_test[i]).toarray()"
      ],
      "metadata": {
        "id": "tDxpcseN2xsD"
      },
      "execution_count": null,
      "outputs": []
    },
    {
      "cell_type": "code",
      "source": [
        "# Check training and testing dataset shapes\n",
        "print(X_train.shape)\n",
        "print(X_test.shape)\n",
        "print(Y_train.shape)\n",
        "print(Y_test.shape)"
      ],
      "metadata": {
        "colab": {
          "base_uri": "https://localhost:8080/"
        },
        "id": "Diot9LLd3IfY",
        "outputId": "ffe5ce21-9399-4fae-f975-bcdf68af6070"
      },
      "execution_count": null,
      "outputs": [
        {
          "output_type": "stream",
          "name": "stdout",
          "text": [
            "(800, 1)\n",
            "(200, 1)\n",
            "(800, 1)\n",
            "(200, 1)\n"
          ]
        }
      ]
    },
    {
      "cell_type": "markdown",
      "source": [
        "### Sentiment Prediction Using LSTM"
      ],
      "metadata": {
        "id": "rW_jNun5Rcm4"
      }
    },
    {
      "cell_type": "code",
      "source": [
        "# Split the series into a list\n",
        "temp = []\n",
        "toList = reviews['Review'].values.tolist()\n",
        "for i in range(len(toList)):\n",
        "    temp.append(toList[i])\n",
        "list(temp[:5])\n",
        "\n",
        "# Remove punctuation\n",
        "def toWords(sentences):\n",
        "    for line in sentences:\n",
        "        yield(gensim.utils.simple_preprocess(str(line), deacc = True))\n",
        "\n",
        "sepWords = list(toWords(temp))\n",
        "\n",
        "print(sepWords[:10])"
      ],
      "metadata": {
        "colab": {
          "base_uri": "https://localhost:8080/"
        },
        "id": "BjvLpZjLOltZ",
        "outputId": "5edea5ec-e8c6-4c85-e395-5fe7004a1367"
      },
      "execution_count": null,
      "outputs": [
        {
          "output_type": "stream",
          "name": "stdout",
          "text": [
            "[['wow', 'loved', 'this', 'place'], ['crust', 'is', 'not', 'good'], ['not', 'tasty', 'and', 'the', 'texture', 'was', 'just', 'nasty'], ['stopped', 'by', 'during', 'the', 'late', 'may', 'bank', 'holiday', 'off', 'rick', 'steve', 'recommendation', 'and', 'loved', 'it'], ['the', 'selection', 'on', 'the', 'menu', 'was', 'great', 'and', 'so', 'were', 'the', 'prices'], ['now', 'am', 'getting', 'angry', 'and', 'want', 'my', 'damn', 'pho'], ['honeslty', 'it', 'didn', 'taste', 'that', 'fresh'], ['the', 'potatoes', 'were', 'like', 'rubber', 'and', 'you', 'could', 'tell', 'they', 'had', 'been', 'made', 'up', 'ahead', 'of', 'time', 'being', 'kept', 'under', 'warmer'], ['the', 'fries', 'were', 'great', 'too'], ['great', 'touch']]\n"
          ]
        }
      ]
    },
    {
      "cell_type": "code",
      "source": [
        "# Detokenize\n",
        "def detokenize(text):\n",
        "    return TreebankWordDetokenizer().detokenize(text)\n",
        "\n",
        "# Lowercase all sentences\n",
        "words = []\n",
        "for i in range(len(sepWords)):\n",
        "    words.append(detokenize(sepWords[i]))\n",
        "print(words[:10])"
      ],
      "metadata": {
        "colab": {
          "base_uri": "https://localhost:8080/"
        },
        "id": "yCMBnjDzPBJN",
        "outputId": "ecfdb389-f02b-4eb4-b759-b2940cdfd469"
      },
      "execution_count": null,
      "outputs": [
        {
          "output_type": "stream",
          "name": "stdout",
          "text": [
            "['wow loved this place', 'crust is not good', 'not tasty and the texture was just nasty', 'stopped by during the late may bank holiday off rick steve recommendation and loved it', 'the selection on the menu was great and so were the prices', 'now am getting angry and want my damn pho', 'honeslty it didn taste that fresh', 'the potatoes were like rubber and you could tell they had been made up ahead of time being kept under warmer', 'the fries were great too', 'great touch']\n"
          ]
        }
      ]
    },
    {
      "cell_type": "code",
      "source": [
        "# Convert categorical to float type\n",
        "labels = np.array(reviews['Sentiment'])\n",
        "y = []\n",
        "for i in range(len(labels)):\n",
        "    if labels[i] == 'negative':\n",
        "        y.append(0)\n",
        "    if labels[i] == 'positive':\n",
        "        y.append(1)\n",
        "y = np.array(y)\n",
        "labels = tf.keras.utils.to_categorical(y, 2, dtype = \"float32\")\n",
        "del y"
      ],
      "metadata": {
        "id": "jCy6CXmVRin9"
      },
      "execution_count": null,
      "outputs": []
    },
    {
      "cell_type": "code",
      "source": [
        "len(labels)"
      ],
      "metadata": {
        "colab": {
          "base_uri": "https://localhost:8080/"
        },
        "id": "xdKQ14_fN4N2",
        "outputId": "8ceb482b-c7bc-4cd5-9401-2d3b8f3da5d7"
      },
      "execution_count": null,
      "outputs": [
        {
          "output_type": "execute_result",
          "data": {
            "text/plain": [
              "1000"
            ]
          },
          "metadata": {},
          "execution_count": 77
        }
      ]
    },
    {
      "cell_type": "code",
      "source": [
        "max_words = 400\n",
        "max_len = 100\n",
        "\n",
        "tokenizer = Tokenizer(num_words = max_words)\n",
        "tokenizer.fit_on_texts(words)\n",
        "seq = tokenizer.texts_to_sequences(words)\n",
        "words1 = pad_sequences(seq, maxlen = max_len)\n",
        "print(words1)"
      ],
      "metadata": {
        "colab": {
          "base_uri": "https://localhost:8080/"
        },
        "id": "9c4OLp79QAr1",
        "outputId": "6f111b0e-40aa-4651-e2f9-4823ee0e2bce"
      },
      "execution_count": null,
      "outputs": [
        {
          "output_type": "stream",
          "name": "stdout",
          "text": [
            "[[  0   0   0 ... 162   7  13]\n",
            " [  0   0   0 ...   5  10  14]\n",
            " [  0   0   0 ...   1   3  44]\n",
            " ...\n",
            " [  0   0   0 ...  10  36  30]\n",
            " [  0   0   0 ... 134 156  38]\n",
            " [  0   0   0 ... 337   1 242]]\n"
          ]
        }
      ]
    },
    {
      "cell_type": "code",
      "source": [
        "#print(labels)"
      ],
      "metadata": {
        "id": "GBFBlAgbQuyg"
      },
      "execution_count": null,
      "outputs": []
    },
    {
      "cell_type": "code",
      "source": [
        "# Training and Testing using same ratios\n",
        "X_train1, X_test1, y_train1, y_test1 = train_test_split(words1, labels, test_size = 0.2, random_state = 99)\n",
        "print (len(X_train1), len(X_test1), len(y_train1), len(y_test1))"
      ],
      "metadata": {
        "colab": {
          "base_uri": "https://localhost:8080/"
        },
        "id": "H_GWhNXvQ7mt",
        "outputId": "cd41b09f-0651-4fc3-a60b-26b3fa72d82e"
      },
      "execution_count": null,
      "outputs": [
        {
          "output_type": "stream",
          "name": "stdout",
          "text": [
            "800 200 800 200\n"
          ]
        }
      ]
    },
    {
      "cell_type": "code",
      "source": [
        "# Create and tune model\n",
        "model = Sequential()\n",
        "model.add(layers.Embedding(max_words, 40, input_length = max_len))\n",
        "model.add(layers.Bidirectional(layers.LSTM(30, dropout = 0.6)))\n",
        "model.add(layers.Dense(2, activation = 'softmax'))\n",
        "model.compile(optimizer = 'rmsprop', loss = 'categorical_crossentropy', metrics = ['accuracy'])\n",
        "history = model.fit(X_train1, y_train1, epochs = 40, validation_data = (X_test1, y_test1))\n"
      ],
      "metadata": {
        "colab": {
          "base_uri": "https://localhost:8080/"
        },
        "id": "0Dwoeu5sRdJr",
        "outputId": "5b8b0103-e1e0-4e7c-e857-5cc5662a0c4f"
      },
      "execution_count": null,
      "outputs": [
        {
          "output_type": "stream",
          "name": "stdout",
          "text": [
            "Epoch 1/40\n",
            "25/25 [==============================] - 8s 112ms/step - loss: 0.6928 - accuracy: 0.5163 - val_loss: 0.6921 - val_accuracy: 0.4600\n",
            "Epoch 2/40\n",
            "25/25 [==============================] - 2s 71ms/step - loss: 0.6846 - accuracy: 0.5688 - val_loss: 0.6767 - val_accuracy: 0.7150\n",
            "Epoch 3/40\n",
            "25/25 [==============================] - 2s 71ms/step - loss: 0.6619 - accuracy: 0.6875 - val_loss: 0.6298 - val_accuracy: 0.7550\n",
            "Epoch 4/40\n",
            "25/25 [==============================] - 2s 68ms/step - loss: 0.6029 - accuracy: 0.7387 - val_loss: 0.5722 - val_accuracy: 0.7900\n",
            "Epoch 5/40\n",
            "25/25 [==============================] - 2s 65ms/step - loss: 0.5388 - accuracy: 0.7650 - val_loss: 0.5086 - val_accuracy: 0.7050\n",
            "Epoch 6/40\n",
            "25/25 [==============================] - 2s 68ms/step - loss: 0.4761 - accuracy: 0.8025 - val_loss: 0.4597 - val_accuracy: 0.8300\n",
            "Epoch 7/40\n",
            "25/25 [==============================] - 2s 74ms/step - loss: 0.4403 - accuracy: 0.8125 - val_loss: 0.4344 - val_accuracy: 0.8150\n",
            "Epoch 8/40\n",
            "25/25 [==============================] - 2s 71ms/step - loss: 0.3865 - accuracy: 0.8512 - val_loss: 0.4086 - val_accuracy: 0.8200\n",
            "Epoch 9/40\n",
            "25/25 [==============================] - 2s 72ms/step - loss: 0.3720 - accuracy: 0.8325 - val_loss: 0.3916 - val_accuracy: 0.8350\n",
            "Epoch 10/40\n",
            "25/25 [==============================] - 2s 72ms/step - loss: 0.3439 - accuracy: 0.8512 - val_loss: 0.3847 - val_accuracy: 0.8300\n",
            "Epoch 11/40\n",
            "25/25 [==============================] - 2s 65ms/step - loss: 0.3152 - accuracy: 0.8813 - val_loss: 0.3756 - val_accuracy: 0.8400\n",
            "Epoch 12/40\n",
            "25/25 [==============================] - 2s 65ms/step - loss: 0.3093 - accuracy: 0.8675 - val_loss: 0.3695 - val_accuracy: 0.8350\n",
            "Epoch 13/40\n",
            "25/25 [==============================] - 3s 119ms/step - loss: 0.2917 - accuracy: 0.8737 - val_loss: 0.3752 - val_accuracy: 0.8500\n",
            "Epoch 14/40\n",
            "25/25 [==============================] - 2s 73ms/step - loss: 0.2822 - accuracy: 0.8788 - val_loss: 0.3771 - val_accuracy: 0.8550\n",
            "Epoch 15/40\n",
            "25/25 [==============================] - 2s 71ms/step - loss: 0.2644 - accuracy: 0.8813 - val_loss: 0.3897 - val_accuracy: 0.8650\n",
            "Epoch 16/40\n",
            "25/25 [==============================] - 2s 69ms/step - loss: 0.2603 - accuracy: 0.8888 - val_loss: 0.3868 - val_accuracy: 0.8600\n",
            "Epoch 17/40\n",
            "25/25 [==============================] - 2s 68ms/step - loss: 0.2448 - accuracy: 0.8925 - val_loss: 0.3856 - val_accuracy: 0.8500\n",
            "Epoch 18/40\n",
            "25/25 [==============================] - 2s 65ms/step - loss: 0.2465 - accuracy: 0.9013 - val_loss: 0.3872 - val_accuracy: 0.8400\n",
            "Epoch 19/40\n",
            "25/25 [==============================] - 2s 64ms/step - loss: 0.2372 - accuracy: 0.9062 - val_loss: 0.4000 - val_accuracy: 0.8400\n",
            "Epoch 20/40\n",
            "25/25 [==============================] - 2s 65ms/step - loss: 0.2271 - accuracy: 0.9100 - val_loss: 0.4161 - val_accuracy: 0.8550\n",
            "Epoch 21/40\n",
            "25/25 [==============================] - 2s 70ms/step - loss: 0.2287 - accuracy: 0.9062 - val_loss: 0.4268 - val_accuracy: 0.8500\n",
            "Epoch 22/40\n",
            "25/25 [==============================] - 2s 80ms/step - loss: 0.2213 - accuracy: 0.9038 - val_loss: 0.4408 - val_accuracy: 0.8200\n",
            "Epoch 23/40\n",
            "25/25 [==============================] - 3s 112ms/step - loss: 0.3024 - accuracy: 0.8950 - val_loss: 0.4199 - val_accuracy: 0.8250\n",
            "Epoch 24/40\n",
            "25/25 [==============================] - 3s 112ms/step - loss: 0.2226 - accuracy: 0.9125 - val_loss: 0.4242 - val_accuracy: 0.8300\n",
            "Epoch 25/40\n",
            "25/25 [==============================] - 4s 145ms/step - loss: 0.2110 - accuracy: 0.9100 - val_loss: 0.4331 - val_accuracy: 0.8350\n",
            "Epoch 26/40\n",
            "25/25 [==============================] - 3s 132ms/step - loss: 0.2004 - accuracy: 0.9212 - val_loss: 0.4337 - val_accuracy: 0.8400\n",
            "Epoch 27/40\n",
            "25/25 [==============================] - 3s 140ms/step - loss: 0.2029 - accuracy: 0.9175 - val_loss: 0.4463 - val_accuracy: 0.8400\n",
            "Epoch 28/40\n",
            "25/25 [==============================] - 3s 127ms/step - loss: 0.1991 - accuracy: 0.9150 - val_loss: 0.4460 - val_accuracy: 0.8350\n",
            "Epoch 29/40\n",
            "25/25 [==============================] - 3s 119ms/step - loss: 0.1737 - accuracy: 0.9287 - val_loss: 0.5164 - val_accuracy: 0.8300\n",
            "Epoch 30/40\n",
            "25/25 [==============================] - 4s 157ms/step - loss: 0.4171 - accuracy: 0.8737 - val_loss: 0.5070 - val_accuracy: 0.8300\n",
            "Epoch 31/40\n",
            "25/25 [==============================] - 2s 69ms/step - loss: 0.1886 - accuracy: 0.9175 - val_loss: 0.4903 - val_accuracy: 0.8450\n",
            "Epoch 32/40\n",
            "25/25 [==============================] - 2s 67ms/step - loss: 0.1810 - accuracy: 0.9250 - val_loss: 0.4869 - val_accuracy: 0.8350\n",
            "Epoch 33/40\n",
            "25/25 [==============================] - 2s 71ms/step - loss: 0.2022 - accuracy: 0.9175 - val_loss: 0.4843 - val_accuracy: 0.8350\n",
            "Epoch 34/40\n",
            "25/25 [==============================] - 2s 70ms/step - loss: 0.2412 - accuracy: 0.9075 - val_loss: 0.4807 - val_accuracy: 0.8300\n",
            "Epoch 35/40\n",
            "25/25 [==============================] - 2s 71ms/step - loss: 0.1779 - accuracy: 0.9262 - val_loss: 0.4899 - val_accuracy: 0.8350\n",
            "Epoch 36/40\n",
            "25/25 [==============================] - 2s 70ms/step - loss: 0.1712 - accuracy: 0.9312 - val_loss: 0.5187 - val_accuracy: 0.8450\n",
            "Epoch 37/40\n",
            "25/25 [==============================] - 2s 65ms/step - loss: 0.1662 - accuracy: 0.9287 - val_loss: 0.5804 - val_accuracy: 0.8250\n",
            "Epoch 38/40\n",
            "25/25 [==============================] - 2s 70ms/step - loss: 0.1801 - accuracy: 0.9325 - val_loss: 0.5251 - val_accuracy: 0.8350\n",
            "Epoch 39/40\n",
            "25/25 [==============================] - 2s 68ms/step - loss: 0.1757 - accuracy: 0.9200 - val_loss: 0.5514 - val_accuracy: 0.8400\n",
            "Epoch 40/40\n",
            "25/25 [==============================] - 2s 69ms/step - loss: 0.1719 - accuracy: 0.9312 - val_loss: 0.5449 - val_accuracy: 0.8200\n"
          ]
        }
      ]
    },
    {
      "cell_type": "code",
      "source": [
        "# Find overall model accuracy\n",
        "test_loss, accuracy = model.evaluate(X_test1, y_test1, verbose = 2)\n",
        "print('Model Accuracy: ', accuracy)"
      ],
      "metadata": {
        "colab": {
          "base_uri": "https://localhost:8080/"
        },
        "id": "LHUB1Ye3YI49",
        "outputId": "9ab9ddb5-c4c1-4156-cf2c-178ed1d64e03"
      },
      "execution_count": null,
      "outputs": [
        {
          "output_type": "stream",
          "name": "stdout",
          "text": [
            "7/7 - 0s - loss: 0.5449 - accuracy: 0.8200 - 130ms/epoch - 19ms/step\n",
            "Model Accuracy:  0.8199999928474426\n"
          ]
        }
      ]
    },
    {
      "cell_type": "markdown",
      "source": [
        "Sentence Testing"
      ],
      "metadata": {
        "id": "rbMRvh_FeaIT"
      }
    },
    {
      "cell_type": "code",
      "source": [
        "# Define sentiments\n",
        "feeling = ['Negative', 'Positive']"
      ],
      "metadata": {
        "id": "d4jGixF_cKnO"
      },
      "execution_count": null,
      "outputs": []
    },
    {
      "cell_type": "code",
      "source": [
        "seq = tokenizer.texts_to_sequences(['So dont go there if you are looking for good food...'])\n",
        "test = pad_sequences(seq, maxlen = max_len)\n",
        "feeling[np.around(model.predict(test)).argmax(axis = 1)[0]]"
      ],
      "metadata": {
        "colab": {
          "base_uri": "https://localhost:8080/",
          "height": 53
        },
        "id": "KdyNBDvicYIb",
        "outputId": "73bd4499-4798-43b5-edc0-493269f0fdee"
      },
      "execution_count": null,
      "outputs": [
        {
          "output_type": "stream",
          "name": "stdout",
          "text": [
            "1/1 [==============================] - 1s 971ms/step\n"
          ]
        },
        {
          "output_type": "execute_result",
          "data": {
            "text/plain": [
              "'Positive'"
            ],
            "application/vnd.google.colaboratory.intrinsic+json": {
              "type": "string"
            }
          },
          "metadata": {},
          "execution_count": 84
        }
      ]
    },
    {
      "cell_type": "code",
      "source": [
        "seq = tokenizer.texts_to_sequences(['If that bug never showed up I would have given a 4 for sure, but on the other side of the wall where this bug was climbing was the kitchen.'])\n",
        "test = pad_sequences(seq, maxlen = max_len)\n",
        "feeling[np.around(model.predict(test)).argmax(axis = 1)[0]]"
      ],
      "metadata": {
        "colab": {
          "base_uri": "https://localhost:8080/",
          "height": 53
        },
        "id": "PTJOpp9dcvBj",
        "outputId": "537a1a45-47f5-4bd0-b48d-ed1d84579d81"
      },
      "execution_count": null,
      "outputs": [
        {
          "output_type": "stream",
          "name": "stdout",
          "text": [
            "1/1 [==============================] - 0s 28ms/step\n"
          ]
        },
        {
          "output_type": "execute_result",
          "data": {
            "text/plain": [
              "'Negative'"
            ],
            "application/vnd.google.colaboratory.intrinsic+json": {
              "type": "string"
            }
          },
          "metadata": {},
          "execution_count": 85
        }
      ]
    },
    {
      "cell_type": "code",
      "source": [
        "seq = tokenizer.texts_to_sequences(['The warm beer didnt help.'])\n",
        "test = pad_sequences(seq, maxlen = max_len)\n",
        "feeling[np.around(model.predict(test)).argmax(axis = 1)[0]]"
      ],
      "metadata": {
        "colab": {
          "base_uri": "https://localhost:8080/",
          "height": 53
        },
        "id": "vugzG37Dc2K8",
        "outputId": "e2e54931-f9ee-47d6-a43c-24fffe82e55f"
      },
      "execution_count": null,
      "outputs": [
        {
          "output_type": "stream",
          "name": "stdout",
          "text": [
            "1/1 [==============================] - 0s 31ms/step\n"
          ]
        },
        {
          "output_type": "execute_result",
          "data": {
            "text/plain": [
              "'Negative'"
            ],
            "application/vnd.google.colaboratory.intrinsic+json": {
              "type": "string"
            }
          },
          "metadata": {},
          "execution_count": 86
        }
      ]
    },
    {
      "cell_type": "code",
      "source": [
        "seq = tokenizer.texts_to_sequences(['The best place to go for a tasty bowl of Pho!'])\n",
        "test = pad_sequences(seq, maxlen = max_len)\n",
        "feeling[np.around(model.predict(test)).argmax(axis = 1)[0]]"
      ],
      "metadata": {
        "colab": {
          "base_uri": "https://localhost:8080/",
          "height": 53
        },
        "id": "x3BX-5TxdwML",
        "outputId": "20a88aa9-d631-46dc-e6c1-237385c4b0ea"
      },
      "execution_count": null,
      "outputs": [
        {
          "output_type": "stream",
          "name": "stdout",
          "text": [
            "1/1 [==============================] - 0s 33ms/step\n"
          ]
        },
        {
          "output_type": "execute_result",
          "data": {
            "text/plain": [
              "'Positive'"
            ],
            "application/vnd.google.colaboratory.intrinsic+json": {
              "type": "string"
            }
          },
          "metadata": {},
          "execution_count": 87
        }
      ]
    },
    {
      "cell_type": "markdown",
      "source": [
        "### Sentiment Prediction Using Naive Bayes"
      ],
      "metadata": {
        "id": "F7tTrcr1Q9Se"
      }
    },
    {
      "cell_type": "code",
      "source": [
        "# Import model and test hyperparamter\n",
        "from sklearn.naive_bayes import GaussianNB\n",
        "clf = GaussianNB(priors=[0.1, 0.9])\n",
        "clf.fit(X_train, Y_train)\n",
        "clf.score(X_test, Y_test)"
      ],
      "metadata": {
        "colab": {
          "base_uri": "https://localhost:8080/"
        },
        "id": "K_8rsmZc2UoB",
        "outputId": "ee1a930b-b617-4622-f3e1-9d3836cbfbeb"
      },
      "execution_count": null,
      "outputs": [
        {
          "output_type": "stream",
          "name": "stderr",
          "text": [
            "/usr/local/lib/python3.7/dist-packages/sklearn/utils/validation.py:993: DataConversionWarning: A column-vector y was passed when a 1d array was expected. Please change the shape of y to (n_samples, ), for example using ravel().\n",
            "  y = column_or_1d(y, warn=True)\n"
          ]
        },
        {
          "output_type": "execute_result",
          "data": {
            "text/plain": [
              "0.49"
            ]
          },
          "metadata": {},
          "execution_count": 103
        }
      ]
    },
    {
      "cell_type": "code",
      "source": [
        "# Test unique hyperparamter combination\n",
        "clf = GaussianNB(priors=[0.5, 0.5])\n",
        "clf.fit(X_train, Y_train)\n",
        "clf.score(X_test, Y_test)"
      ],
      "metadata": {
        "colab": {
          "base_uri": "https://localhost:8080/"
        },
        "outputId": "d9460497-f58a-4d19-8b00-ab20e985fa9a",
        "id": "zoerbhXftanV"
      },
      "execution_count": null,
      "outputs": [
        {
          "output_type": "stream",
          "name": "stderr",
          "text": [
            "/usr/local/lib/python3.7/dist-packages/sklearn/utils/validation.py:993: DataConversionWarning: A column-vector y was passed when a 1d array was expected. Please change the shape of y to (n_samples, ), for example using ravel().\n",
            "  y = column_or_1d(y, warn=True)\n"
          ]
        },
        {
          "output_type": "execute_result",
          "data": {
            "text/plain": [
              "0.525"
            ]
          },
          "metadata": {},
          "execution_count": 89
        }
      ]
    },
    {
      "cell_type": "code",
      "source": [
        "# Test unique hyperparamter combination\n",
        "clf = GaussianNB(var_smoothing = 1)\n",
        "clf.fit(X_train, Y_train)\n",
        "clf.score(X_test, Y_test)"
      ],
      "metadata": {
        "colab": {
          "base_uri": "https://localhost:8080/"
        },
        "outputId": "b8de9706-d3ce-4e01-ffeb-ad71415ca5fc",
        "id": "KhfxJ8bStauO"
      },
      "execution_count": null,
      "outputs": [
        {
          "output_type": "stream",
          "name": "stderr",
          "text": [
            "/usr/local/lib/python3.7/dist-packages/sklearn/utils/validation.py:993: DataConversionWarning: A column-vector y was passed when a 1d array was expected. Please change the shape of y to (n_samples, ), for example using ravel().\n",
            "  y = column_or_1d(y, warn=True)\n"
          ]
        },
        {
          "output_type": "execute_result",
          "data": {
            "text/plain": [
              "0.525"
            ]
          },
          "metadata": {},
          "execution_count": 90
        }
      ]
    },
    {
      "cell_type": "code",
      "source": [
        "# Test unique hyperparamter combination\n",
        "clf = GaussianNB(priors=[0.95, 0.05])\n",
        "clf.fit(X_train, Y_train)\n",
        "clf.score(X_test, Y_test)"
      ],
      "metadata": {
        "colab": {
          "base_uri": "https://localhost:8080/"
        },
        "outputId": "e58d57f2-8498-4ec7-a38a-8381242f8381",
        "id": "NlYy9qM3ta94"
      },
      "execution_count": null,
      "outputs": [
        {
          "output_type": "stream",
          "name": "stderr",
          "text": [
            "/usr/local/lib/python3.7/dist-packages/sklearn/utils/validation.py:993: DataConversionWarning: A column-vector y was passed when a 1d array was expected. Please change the shape of y to (n_samples, ), for example using ravel().\n",
            "  y = column_or_1d(y, warn=True)\n"
          ]
        },
        {
          "output_type": "execute_result",
          "data": {
            "text/plain": [
              "0.525"
            ]
          },
          "metadata": {},
          "execution_count": 91
        }
      ]
    },
    {
      "cell_type": "code",
      "source": [
        "# Test unique hyperparamter combination\n",
        "clf = GaussianNB(var_smoothing = 100)\n",
        "clf.fit(X_train, Y_train)\n",
        "clf.score(X_test, Y_test)"
      ],
      "metadata": {
        "colab": {
          "base_uri": "https://localhost:8080/"
        },
        "outputId": "c8569f68-2b1a-445a-b96a-fc3ee6036d18",
        "id": "Ts8M7xcXt9kI"
      },
      "execution_count": null,
      "outputs": [
        {
          "output_type": "stream",
          "name": "stderr",
          "text": [
            "/usr/local/lib/python3.7/dist-packages/sklearn/utils/validation.py:993: DataConversionWarning: A column-vector y was passed when a 1d array was expected. Please change the shape of y to (n_samples, ), for example using ravel().\n",
            "  y = column_or_1d(y, warn=True)\n"
          ]
        },
        {
          "output_type": "execute_result",
          "data": {
            "text/plain": [
              "0.49"
            ]
          },
          "metadata": {},
          "execution_count": 92
        }
      ]
    },
    {
      "cell_type": "code",
      "source": [
        "# Test unique hyperparamter combination\n",
        "clf = GaussianNB(var_smoothing = 0.0000001)\n",
        "clf.fit(X_train, Y_train)\n",
        "clf.score(X_test, Y_test)"
      ],
      "metadata": {
        "colab": {
          "base_uri": "https://localhost:8080/"
        },
        "outputId": "4e611b19-6e1f-400d-9d94-252295a28031",
        "id": "xC-enWx2t99f"
      },
      "execution_count": null,
      "outputs": [
        {
          "output_type": "stream",
          "name": "stderr",
          "text": [
            "/usr/local/lib/python3.7/dist-packages/sklearn/utils/validation.py:993: DataConversionWarning: A column-vector y was passed when a 1d array was expected. Please change the shape of y to (n_samples, ), for example using ravel().\n",
            "  y = column_or_1d(y, warn=True)\n"
          ]
        },
        {
          "output_type": "execute_result",
          "data": {
            "text/plain": [
              "0.525"
            ]
          },
          "metadata": {},
          "execution_count": 93
        }
      ]
    },
    {
      "cell_type": "code",
      "source": [
        "# Test unique hyperparamter combination\n",
        "clf = GaussianNB(var_smoothing = 0)\n",
        "clf.fit(X_train, Y_train)\n",
        "clf.score(X_test, Y_test)"
      ],
      "metadata": {
        "colab": {
          "base_uri": "https://localhost:8080/"
        },
        "outputId": "a6d3bbaa-b185-4db2-903c-309ef53829c8",
        "id": "9VfuViQ5uNhr"
      },
      "execution_count": null,
      "outputs": [
        {
          "output_type": "stream",
          "name": "stderr",
          "text": [
            "/usr/local/lib/python3.7/dist-packages/sklearn/utils/validation.py:993: DataConversionWarning: A column-vector y was passed when a 1d array was expected. Please change the shape of y to (n_samples, ), for example using ravel().\n",
            "  y = column_or_1d(y, warn=True)\n",
            "/usr/local/lib/python3.7/dist-packages/sklearn/naive_bayes.py:489: RuntimeWarning: divide by zero encountered in log\n",
            "  n_ij = -0.5 * np.sum(np.log(2.0 * np.pi * self.var_[i, :]))\n",
            "/usr/local/lib/python3.7/dist-packages/sklearn/naive_bayes.py:490: RuntimeWarning: divide by zero encountered in true_divide\n",
            "  n_ij -= 0.5 * np.sum(((X - self.theta_[i, :]) ** 2) / (self.var_[i, :]), 1)\n",
            "/usr/local/lib/python3.7/dist-packages/sklearn/naive_bayes.py:490: RuntimeWarning: invalid value encountered in true_divide\n",
            "  n_ij -= 0.5 * np.sum(((X - self.theta_[i, :]) ** 2) / (self.var_[i, :]), 1)\n",
            "/usr/local/lib/python3.7/dist-packages/sklearn/naive_bayes.py:490: RuntimeWarning: invalid value encountered in subtract\n",
            "  n_ij -= 0.5 * np.sum(((X - self.theta_[i, :]) ** 2) / (self.var_[i, :]), 1)\n"
          ]
        },
        {
          "output_type": "execute_result",
          "data": {
            "text/plain": [
              "0.51"
            ]
          },
          "metadata": {},
          "execution_count": 94
        }
      ]
    },
    {
      "cell_type": "code",
      "source": [
        "# Test unique hyperparamter combination\n",
        "clf = GaussianNB()\n",
        "clf.fit(X_train, Y_train)\n",
        "clf.score(X_test, Y_test)"
      ],
      "metadata": {
        "colab": {
          "base_uri": "https://localhost:8080/"
        },
        "outputId": "2ca6fe79-9dd2-4c76-992d-1e471b7848bb",
        "id": "9cksaP16uVjJ"
      },
      "execution_count": null,
      "outputs": [
        {
          "output_type": "stream",
          "name": "stderr",
          "text": [
            "/usr/local/lib/python3.7/dist-packages/sklearn/utils/validation.py:993: DataConversionWarning: A column-vector y was passed when a 1d array was expected. Please change the shape of y to (n_samples, ), for example using ravel().\n",
            "  y = column_or_1d(y, warn=True)\n"
          ]
        },
        {
          "output_type": "execute_result",
          "data": {
            "text/plain": [
              "0.525"
            ]
          },
          "metadata": {},
          "execution_count": 95
        }
      ]
    },
    {
      "cell_type": "code",
      "source": [
        "# Return 10 misclassified reviews\n",
        "predictions = clf.predict(X_test)\n",
        "Y_test.reset_index(inplace = True,drop = True)\n",
        "X_test.reset_index(inplace = True,drop = True)\n",
        "i = 0\n",
        "j = 0\n",
        "while (i < 10 and j < len(X_test)):\n",
        "  if (predictions[j] != Y_test.iloc[j,0]):\n",
        "      print(X_test2.iloc[j,0])\n",
        "      i = i + 1\n",
        "  j = j + 1"
      ],
      "metadata": {
        "colab": {
          "base_uri": "https://localhost:8080/"
        },
        "id": "EQHzOKDEZpsE",
        "outputId": "26ba0e76-387d-43a7-bfcc-4f48655d2387"
      },
      "execution_count": null,
      "outputs": [
        {
          "output_type": "stream",
          "name": "stdout",
          "text": [
            "No, I'm going to eat the potato that I found some strangers hair in it.\n",
            "Would not go back.\n",
            "I had the mac salad and it was pretty bland so I will not be getting that again.\n",
            "Not much flavor to them, and very poorly constructed.\n",
            "Maybe if they weren't cold they would have been somewhat edible.\n",
            "But the service was beyond bad.\n",
            "The descriptions said \"yum yum sauce\" and another said \"eel sauce\", yet another said \"spicy mayo\"...well NONE of the rolls had sauces on them.\n",
            "I kept looking at the time and it had soon become 35 minutes, yet still no food.\n",
            "I don't know what the big deal is about this place, but I won't be back \"ya'all\".\n",
            "After the disappointing dinner we went elsewhere for dessert.\n"
          ]
        }
      ]
    }
  ]
}